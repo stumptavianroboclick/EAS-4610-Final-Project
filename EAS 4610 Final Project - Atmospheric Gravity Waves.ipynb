{
 "cells": [
  {
   "cell_type": "markdown",
   "id": "75b467ce",
   "metadata": {},
   "source": [
    "# EAS 4610 - Earth Systems Modeling - Final Project\n",
    "## Atmospheric Gravity Waves\n",
    "### By: Carson Clements, Kate Breeden\n",
    "### Due: Tuesday, December 6th\n",
    "### Requirements/Rubric: https://gatech.instructure.com/courses/261984/assignments/1234642\n",
    "### Original Paper (Internal Gravity Waves in the Atmosphere): https://reader.elsevier.com/reader/sd/pii/S007461420480041X?token=0857787B8B9E9271C8A60B92489BEFF2C13E45CB9E82B096A270BAF36C9140939E1555793F0E0CF14F4AF85AECACF9A9&originRegion=us-east-1&originCreation=20221129172936"
   ]
  },
  {
   "cell_type": "markdown",
   "id": "c31c801f",
   "metadata": {},
   "source": [
    "### Necessary Imports"
   ]
  },
  {
   "cell_type": "code",
   "execution_count": 1,
   "id": "eb085c26",
   "metadata": {},
   "outputs": [],
   "source": [
    "import numpy as np\n",
    "import matplotlib.pyplot as plt\n",
    "from scipy.sparse import spdiags"
   ]
  },
  {
   "cell_type": "markdown",
   "id": "77dbdf3e",
   "metadata": {},
   "source": [
    "### Parameters to Consider"
   ]
  },
  {
   "cell_type": "code",
   "execution_count": null,
   "id": "6cdf5d60",
   "metadata": {},
   "outputs": [],
   "source": []
  }
 ],
 "metadata": {
  "kernelspec": {
   "display_name": "Python 3",
   "language": "python",
   "name": "python3"
  },
  "language_info": {
   "codemirror_mode": {
    "name": "ipython",
    "version": 3
   },
   "file_extension": ".py",
   "mimetype": "text/x-python",
   "name": "python",
   "nbconvert_exporter": "python",
   "pygments_lexer": "ipython3",
   "version": "3.8.8"
  }
 },
 "nbformat": 4,
 "nbformat_minor": 5
}
