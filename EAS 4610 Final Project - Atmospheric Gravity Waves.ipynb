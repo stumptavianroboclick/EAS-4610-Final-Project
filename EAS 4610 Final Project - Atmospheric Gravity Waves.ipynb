{
 "cells": [
  {
   "cell_type": "markdown",
   "id": "75b467ce",
   "metadata": {},
   "source": [
    "# EAS 4610 - Earth Systems Modeling - Final Project\n",
    "## Atmospheric/Shallow Water Gravity Waves\n",
    "### By: Carson Clements, Kate Breeden\n",
    "### Due: Tuesday, December 6th\n",
    "### Requirements/Rubric: https://gatech.instructure.com/courses/261984/assignments/1234642\n",
    "### Original Paper (Internal Gravity Waves in the Atmosphere): https://reader.elsevier.com/reader/sd/pii/S007461420480041X?token=0857787B8B9E9271C8A60B92489BEFF2C13E45CB9E82B096A270BAF36C9140939E1555793F0E0CF14F4AF85AECACF9A9&originRegion=us-east-1&originCreation=20221129172936"
   ]
  },
  {
   "cell_type": "markdown",
   "id": "8b44c53b",
   "metadata": {},
   "source": [
    "List of Requirements\n",
    "## Introduction\n",
    "\n",
    "## Equations\n",
    "\n",
    "## Numerical Methods\n",
    "\n",
    "## Results\n",
    "\n",
    "## Figures"
   ]
  },
  {
   "cell_type": "markdown",
   "id": "a28e874f",
   "metadata": {},
   "source": [
    "## WaveEqnDemo Base\n",
    "### Created by: Dr. Robel\n",
    "### Minor Edits by: Carson Clements, Kate Breeden"
   ]
  },
  {
   "cell_type": "markdown",
   "id": "c31c801f",
   "metadata": {},
   "source": [
    "### Necessary Imports"
   ]
  },
  {
   "cell_type": "code",
   "execution_count": 396,
   "id": "eb085c26",
   "metadata": {},
   "outputs": [],
   "source": [
    "import numpy as np\n",
    "import matplotlib.pyplot as plt\n",
    "import math as ma\n",
    "from scipy.sparse import spdiags"
   ]
  },
  {
   "cell_type": "markdown",
   "id": "77dbdf3e",
   "metadata": {},
   "source": [
    "### Parameters to Consider"
   ]
  },
  {
   "cell_type": "code",
   "execution_count": 397,
   "id": "6cdf5d60",
   "metadata": {},
   "outputs": [],
   "source": [
    "alpha1 = 1\n",
    "alpha2 = 2\n",
    "L = 30.0\n",
    "xt = 15\n",
    "tf = 100.0"
   ]
  },
  {
   "cell_type": "markdown",
   "id": "bc16a865",
   "metadata": {},
   "source": [
    "### Assembling the Grid"
   ]
  },
  {
   "cell_type": "code",
   "execution_count": 398,
   "id": "64e34b67",
   "metadata": {},
   "outputs": [
    {
     "data": {
      "text/plain": [
       "[<matplotlib.lines.Line2D at 0x1dd6ad2e850>]"
      ]
     },
     "execution_count": 398,
     "metadata": {},
     "output_type": "execute_result"
    },
    {
     "data": {
      "image/png": "[encoded data removed]",
      "text/plain": [
       "<Figure size 432x288 with 1 Axes>"
      ]
     },
     "metadata": {
      "needs_background": "light"
     },
     "output_type": "display_data"
    }
   ],
   "source": [
    "nx = 301\n",
    "nt = 10000\n",
    "\n",
    "x = np.linspace(0,L,nx) # Need L to evenly divide into nx\n",
    "t = np.linspace(0,tf,nt) # Need tf to evenly divide into nt\n",
    "\n",
    "dt = t[1]-t[0]\n",
    "dx = x[1]-x[0]\n",
    "\n",
    "lam = np.zeros(nx)\n",
    "lam[x<=xt] = alpha1*dt/dx\n",
    "lam[x>xt] = alpha2*dt/dx\n",
    "\n",
    "plt.plot(x,lam)"
   ]
  },
  {
   "cell_type": "markdown",
   "id": "4e24b8ea",
   "metadata": {},
   "source": [
    "### Pre-Allocating Variables and Initial Conditions"
   ]
  },
  {
   "cell_type": "code",
   "execution_count": 399,
   "id": "06e1ae3d",
   "metadata": {},
   "outputs": [],
   "source": [
    "u = np.nan*np.ones([nx,nt])\n",
    "u[:,0] = np.exp(-(x**2) / 2)\n",
    "u[:,1] = np.exp(-(x**2) / 2)"
   ]
  },
  {
   "cell_type": "markdown",
   "id": "1a9685ae",
   "metadata": {},
   "source": [
    "### Making the Tridiagonal Matrix"
   ]
  },
  {
   "cell_type": "code",
   "execution_count": 400,
   "id": "2c22fcaa",
   "metadata": {},
   "outputs": [],
   "source": [
    "data = np.array([(lam**2)*np.ones(nx), 2*(1-lam**2)*np.ones(nx), (lam**2)*np.ones(nx)])\n",
    "diags = np.array([-1, 0, 1])\n",
    "M = spdiags(data, diags, nx, nx).toarray()"
   ]
  },
  {
   "cell_type": "markdown",
   "id": "d8f08a89",
   "metadata": {},
   "source": [
    "### Establishing Boundary Conditions"
   ]
  },
  {
   "cell_type": "code",
   "execution_count": 401,
   "id": "c2f2d093",
   "metadata": {},
   "outputs": [],
   "source": [
    "#Reflective BC\n",
    "M[0,0] = 2-lam[0]**2\n",
    "M[-1,-1] = 2-lam[-1]**2"
   ]
  },
  {
   "cell_type": "markdown",
   "id": "b671eb31",
   "metadata": {},
   "source": [
    "### Solving the Equation"
   ]
  },
  {
   "cell_type": "code",
   "execution_count": 402,
   "id": "3311551b",
   "metadata": {},
   "outputs": [],
   "source": [
    "for k in np.arange(nt-2):\n",
    "    u[:,k+2] = np.matmul(M,u[:,k+1]) - u[:,k]"
   ]
  },
  {
   "cell_type": "markdown",
   "id": "0be58a3c",
   "metadata": {},
   "source": [
    "### Plotting the Solution"
   ]
  },
  {
   "cell_type": "code",
   "execution_count": 403,
   "id": "2198af9b",
   "metadata": {},
   "outputs": [
    {
     "data": {
      "image/png": "[encoded data removed]",
      "text/plain": [
       "<Figure size 432x288 with 1 Axes>"
      ]
     },
     "metadata": {
      "needs_background": "light"
     },
     "output_type": "display_data"
    }
   ],
   "source": [
    "for k in range(1, 10, nt):\n",
    "    plt.plot(x,u[:,k], 'k', linewidth=3)\n",
    "    plt.xlabel('x')\n",
    "    plt.ylabel('u')\n",
    "    #set(gca,fontsize=20)"
   ]
  },
  {
   "cell_type": "markdown",
   "id": "be98d0c6",
   "metadata": {},
   "source": [
    "# Creating the Wave Function\n",
    "## Case 1 - c (or alpha) is Constant in Space"
   ]
  },
  {
   "cell_type": "markdown",
   "id": "46c9e3c2",
   "metadata": {},
   "source": [
    "### Parameters to (re)Consider"
   ]
  },
  {
   "cell_type": "code",
   "execution_count": 404,
   "id": "90c669cf",
   "metadata": {},
   "outputs": [],
   "source": [
    "#alpha = u + or - sqrt(gravity * Height or Mean Depth of Lower Layer)\n",
    "# Have to modify above equation to fit two alpha values'\n",
    "# Assume perturbation values can be neglected because H >> h'\n",
    "# Assume two layers we're dealing with are water (bottom) and air (top)\n",
    "# h' = A*e^(ik[x-(u+sqrt(gH))t]) What is A? i & k are time and place step, respectively\n",
    "# Remember: default equation is partial 2nd time (t) derivative of h' + c^2 * partial 2nd space (x) derivative of h' = 0\n",
    "g = 9.81 #m/(s^2) - average gravitational acceleration\n",
    "H = 3700 #m - also the average depth of the ocean\n",
    "u_Line_Stable = 10 #m/s - somewhat of an average zonal wind speed value for majority of earth\n",
    "u_Line_Reverse = -10 #m/s - somewhat of an average zonal wind speed value for majority of earth\n",
    "# The following are based upon the assumption that the upper layer is air and the lower layer is water\n",
    "c1 = u_Line_Stable + ma.sqrt(g*H)\n",
    "c2 = u_Line_Reverse - ma.sqrt(g*H)\n",
    "x_Scale = 1.0 #5000 #m - part of a 5km space scale\n",
    "t_Scale = 1.0 #3600 #s - hourly time scale"
   ]
  },
  {
   "cell_type": "markdown",
   "id": "817b79c6",
   "metadata": {},
   "source": [
    "### Assembling a New Grid"
   ]
  },
  {
   "cell_type": "code",
   "execution_count": 405,
   "id": "10f16e8f",
   "metadata": {},
   "outputs": [],
   "source": [
    "x_Total = 568 #28385000 #m - \"circumference\" of the Earth at 45 degrees latitude (mid-latitudes)\n",
    "t_Total = 336 #1209600 #s - amount of time for an individual air parcel to circumnavigate the globe in the mid-latitudes (roughly 2 weeks)\n",
    "\n",
    "x_Array = np.linspace(0,x_Scale,x_Total) # Need x_Scale to evenly divide into x_Total\n",
    "t_Array = np.linspace(0,t_Scale,t_Total) # Need t_Scale to evenly divide into t_Total\n",
    "\n",
    "delta_t = t_Array[1]-t_Array[0] #time step\n",
    "delta_x = x_Array[1]-x_Array[0] #space step\n",
    "\n",
    "lam_Stable = np.zeros(x_Total) #Creating the stable c/alpha case\n",
    "for i in np.arange(x_Total):\n",
    "    lam_Stable[i] = c1*delta_t/delta_x #Establishing the stable c/alpha case\n",
    "\n",
    "lam_Reverse = np.zeros(x_Total) #Creating the stable c/alpha case with opposite flow\n",
    "for i in np.arange(x_Total):\n",
    "    lam_Reverse[i] = c2*delta_t/delta_x #Establishing the above case"
   ]
  },
  {
   "cell_type": "markdown",
   "id": "3db47a8a",
   "metadata": {},
   "source": [
    "### Creating the two Matrices and Allocating for Space Within Them"
   ]
  },
  {
   "cell_type": "code",
   "execution_count": 406,
   "id": "47759345",
   "metadata": {},
   "outputs": [],
   "source": [
    "stable_u = np.nan*np.ones([x_Total,t_Total])\n",
    "stable_u[:,0] = np.exp(-(x_Array**2) / 2)\n",
    "stable_u[:,1] = np.exp(-(x_Array**2) / 2)\n",
    "\n",
    "reverse_u = np.nan*np.ones([x_Total,t_Total])\n",
    "reverse_u[:,0] = np.exp(-(x_Array**2) / 2)\n",
    "reverse_u[:,1] = np.exp(-(x_Array**2) / 2)"
   ]
  },
  {
   "cell_type": "markdown",
   "id": "23d815ae",
   "metadata": {},
   "source": [
    "### Modifying the Matrices to Make Them Tridiagonal"
   ]
  },
  {
   "cell_type": "code",
   "execution_count": 407,
   "id": "7701f2d2",
   "metadata": {},
   "outputs": [],
   "source": [
    "# Westerlies in mid-latitudes\n",
    "stable_Data = np.array([(lam_Stable**2)*np.ones(x_Total), 2*(1-lam_Stable**2)*np.ones(x_Total), (lam_Stable**2)*np.ones(x_Total)])\n",
    "stable_Diags = np.array([-1, 0, 1])\n",
    "stable_M = spdiags(stable_Data, stable_Diags, x_Total, x_Total).toarray()\n",
    "\n",
    "# Now for the Other Option (aka westerlies are now easterlies)\n",
    "reverse_Data = np.array([(lam_Reverse**2)*np.ones(x_Total), 2*(1-lam_Reverse**2)*np.ones(x_Total), (lam_Reverse**2)*np.ones(x_Total)])\n",
    "reverse_Diags = np.array([-1, 0, 1])\n",
    "reverse_M = spdiags(reverse_Data, reverse_Diags, x_Total, x_Total).toarray()"
   ]
  },
  {
   "cell_type": "markdown",
   "id": "f813caf1",
   "metadata": {},
   "source": [
    "### Determining Appropriate Boundary Conditions"
   ]
  },
  {
   "cell_type": "code",
   "execution_count": 408,
   "id": "1bcfbea8",
   "metadata": {},
   "outputs": [],
   "source": [
    "#Reflective BC\n",
    "stable_M[0,0] = 2-lam_Stable[0]**2\n",
    "stable_M[-1,-1] = 2-lam_Stable[-1]**2\n",
    "\n",
    "#Reflective BC\n",
    "reverse_M[0,0] = 2-lam_Reverse[0]**2\n",
    "reverse_M[-1,-1] = 2-lam_Reverse[-1]**2"
   ]
  },
  {
   "cell_type": "markdown",
   "id": "c51db7e5",
   "metadata": {},
   "source": [
    "### Solving the Wave Equation"
   ]
  },
  {
   "cell_type": "code",
   "execution_count": 409,
   "id": "d0f711d8",
   "metadata": {},
   "outputs": [
    {
     "name": "stderr",
     "output_type": "stream",
     "text": [
      "C:\\Users\\carso\\AppData\\Local\\Temp/ipykernel_19232/3733149974.py:3: RuntimeWarning: overflow encountered in matmul\n",
      "  stable_u[:,k+2] = np.matmul(stable_M,stable_u[:,k+1]) - stable_u[:,k]\n",
      "C:\\Users\\carso\\AppData\\Local\\Temp/ipykernel_19232/3733149974.py:3: RuntimeWarning: invalid value encountered in matmul\n",
      "  stable_u[:,k+2] = np.matmul(stable_M,stable_u[:,k+1]) - stable_u[:,k]\n",
      "C:\\Users\\carso\\AppData\\Local\\Temp/ipykernel_19232/3733149974.py:7: RuntimeWarning: overflow encountered in matmul\n",
      "  reverse_u[:,k+2] = np.matmul(reverse_M,reverse_u[:,k+1]) - reverse_u[:,k]\n",
      "C:\\Users\\carso\\AppData\\Local\\Temp/ipykernel_19232/3733149974.py:7: RuntimeWarning: invalid value encountered in matmul\n",
      "  reverse_u[:,k+2] = np.matmul(reverse_M,reverse_u[:,k+1]) - reverse_u[:,k]\n"
     ]
    }
   ],
   "source": [
    "# First up, the normal case\n",
    "for k in np.arange(t_Total-2):\n",
    "    stable_u[:,k+2] = np.matmul(stable_M,stable_u[:,k+1]) - stable_u[:,k]\n",
    "    \n",
    "# And now the reverse!\n",
    "for k in np.arange(t_Total-2):\n",
    "    reverse_u[:,k+2] = np.matmul(reverse_M,reverse_u[:,k+1]) - reverse_u[:,k]\n",
    "\n",
    "#Still Generating RuntimeWarnings due to overflow and invalid values in matmul - investigate asap"
   ]
  },
  {
   "cell_type": "markdown",
   "id": "052afb96",
   "metadata": {},
   "source": [
    "### Plotting the Two Results"
   ]
  },
  {
   "cell_type": "code",
   "execution_count": 410,
   "id": "a2d1f2b9",
   "metadata": {},
   "outputs": [
    {
     "data": {
      "image/png": "[encoded data removed]",
      "text/plain": [
       "<Figure size 432x288 with 1 Axes>"
      ]
     },
     "metadata": {
      "needs_background": "light"
     },
     "output_type": "display_data"
    }
   ],
   "source": [
    "#Normal Case is First\n",
    "for k in range(1, 4, t_Total):\n",
    "    plt.plot(x_Array,stable_u[:,k],'k',linewidth=3)\n",
    "    plt.xlabel('x');\n",
    "    plt.ylabel('u');"
   ]
  },
  {
   "cell_type": "code",
   "execution_count": 411,
   "id": "97e8ee56",
   "metadata": {},
   "outputs": [
    {
     "data": {
      "image/png": "[encoded data removed]",
      "text/plain": [
       "<Figure size 432x288 with 1 Axes>"
      ]
     },
     "metadata": {
      "needs_background": "light"
     },
     "output_type": "display_data"
    }
   ],
   "source": [
    "#Reverse Case\n",
    "for k in range(1, 4, t_Total):\n",
    "    plt.plot(x_Array,reverse_u[:,k],'k',linewidth=3)\n",
    "    plt.xlabel('x');\n",
    "    plt.ylabel('u');"
   ]
  },
  {
   "cell_type": "markdown",
   "id": "0f39a2c8",
   "metadata": {},
   "source": [
    "# Wave Function Part II\n",
    "## Case 2 - c = c(x) [alpha = alpha(x)]"
   ]
  },
  {
   "cell_type": "markdown",
   "id": "22bc4cd6",
   "metadata": {},
   "source": [
    "### Re-evaluating Parameters"
   ]
  },
  {
   "cell_type": "code",
   "execution_count": 412,
   "id": "60b3ef23",
   "metadata": {},
   "outputs": [
    {
     "data": {
      "text/plain": [
       "array([0.        , 0.00881834, 0.01763665, 0.0264549 , 0.03527308,\n",
       "       0.04409114, 0.05290907, 0.06172683, 0.0705444 , 0.07936175,\n",
       "       0.08817885, 0.09699568, 0.10581221, 0.1146284 , 0.12344425,\n",
       "       0.1322597 , 0.14107475, 0.14988936, 0.1587035 , 0.16751715,\n",
       "       0.17633027, 0.18514285, 0.19395485, 0.20276625, 0.21157702,\n",
       "       0.22038713, 0.22919655, 0.23800527, 0.24681324, 0.25562044,\n",
       "       0.26442685, 0.27323243, 0.28203717, 0.29084103, 0.29964398,\n",
       "       0.308446  , 0.31724707, 0.32604714, 0.3348462 , 0.34364422,\n",
       "       0.35244118, 0.36123703, 0.37003176, 0.37882534, 0.38761774,\n",
       "       0.39640894, 0.4051989 , 0.41398761, 0.42277502, 0.43156112,\n",
       "       0.44034588, 0.44912927, 0.45791126, 0.46669182, 0.47547094,\n",
       "       0.48424857, 0.4930247 , 0.5017993 , 0.51057233, 0.51934378,\n",
       "       0.52811361, 0.5368818 , 0.54564832, 0.55441314, 0.56317624,\n",
       "       0.57193759, 0.58069715, 0.58945491, 0.59821084, 0.6069649 ,\n",
       "       0.61571708, 0.62446734, 0.63321566, 0.64196201, 0.65070637,\n",
       "       0.6594487 , 0.66818898, 0.67692718, 0.68566327, 0.69439723,\n",
       "       0.70312903, 0.71185865, 0.72058605, 0.72931121, 0.7380341 ,\n",
       "       0.74675469, 0.75547297, 0.76418889, 0.77290243, 0.78161357,\n",
       "       0.79032228, 0.79902853, 0.8077323 , 0.81643355, 0.82513227,\n",
       "       0.83382841, 0.84252197, 0.8512129 , 0.85990119, 0.8685868 ,\n",
       "       0.87726971, 0.88594989, 0.89462731, 0.90330195, 0.91197378,\n",
       "       0.92064278, 0.92930891, 0.93797215, 0.94663247, 0.95528985,\n",
       "       0.96394426, 0.97259567, 0.98124405, 0.98988938, 0.99853163,\n",
       "       1.00717078, 1.01580679, 1.02443965, 1.03306931, 1.04169577,\n",
       "       1.05031898, 1.05893893, 1.06755558, 1.07616891, 1.0847789 ,\n",
       "       1.09338551, 1.10198872, 1.1105885 , 1.11918483, 1.12777767,\n",
       "       1.13636701, 1.14495281, 1.15353505, 1.16211371, 1.17068875,\n",
       "       1.17926014, 1.18782787, 1.19639191, 1.20495222, 1.21350879,\n",
       "       1.22206158, 1.23061057, 1.23915573, 1.24769703, 1.25623446,\n",
       "       1.26476798, 1.27329756, 1.28182318, 1.29034482, 1.29886244,\n",
       "       1.30737603, 1.31588554, 1.32439097, 1.33289227, 1.34138943,\n",
       "       1.34988241, 1.3583712 , 1.36685576, 1.37533607, 1.3838121 ,\n",
       "       1.39228383, 1.40075122, 1.40921426, 1.41767292, 1.42612716,\n",
       "       1.43457697, 1.44302232, 1.45146318, 1.45989952, 1.46833133,\n",
       "       1.47675856, 1.4851812 , 1.49359923, 1.5020126 , 1.51042131,\n",
       "       1.51882532, 1.5272246 , 1.53561913, 1.54400888, 1.55239384,\n",
       "       1.56077396, 1.56914923, 1.57751962, 1.5858851 , 1.59424565,\n",
       "       1.60260124, 1.61095184, 1.61929743, 1.62763799, 1.63597348,\n",
       "       1.64430389, 1.65262918, 1.66094933, 1.66926431, 1.6775741 ,\n",
       "       1.68587868, 1.69417801, 1.70247206, 1.71076083, 1.71904427,\n",
       "       1.72732237, 1.73559509, 1.74386241, 1.75212431, 1.76038076,\n",
       "       1.76863173, 1.77687721, 1.78511715, 1.79335154, 1.80158036,\n",
       "       1.80980357, 1.81802115, 1.82623307, 1.83443932, 1.84263986,\n",
       "       1.85083467, 1.85902372, 1.86720699, 1.87538445, 1.88355607,\n",
       "       1.89172184, 1.89988172, 1.9080357 , 1.91618374, 1.92432582,\n",
       "       1.93246191, 1.94059199, 1.94871604, 1.95683402, 1.96494592,\n",
       "       1.9730517 , 1.98115135, 1.98924484, 1.99733214, 2.00541322,\n",
       "       2.01348807, 2.02155665, 2.02961895, 2.03767493, 2.04572458,\n",
       "       2.05376786, 2.06180475, 2.06983523, 2.07785927, 2.08587685,\n",
       "       2.09388794, 2.10189252, 2.10989056, 2.11788204, 2.12586693,\n",
       "       2.1338452 , 2.14181684, 2.14978182, 2.15774011, 2.16569169,\n",
       "       2.17363653, 2.18157461, 2.1895059 , 2.19743039, 2.20534803,\n",
       "       2.21325882, 2.22116273, 2.22905972, 2.23694979, 2.24483289,\n",
       "       2.25270901, 2.26057813, 2.26844021, 2.27629524, 2.28414318,\n",
       "       2.29198402, 2.29981774, 2.30764429, 2.31546367, 2.32327585,\n",
       "       2.3310808 , 2.3388785 , 2.34666893, 2.35445206, 2.36222786,\n",
       "       2.36999631, 2.3777574 , 2.38551108, 2.39325735, 2.40099617,\n",
       "       2.40872753, 2.41645139, 2.42416773, 2.43187654, 2.43957778,\n",
       "       2.44727143, 2.45495747, 2.46263587, 2.47030662, 2.47796967,\n",
       "       2.48562503, 2.49327265, 2.50091251, 2.5085446 , 2.51616888,\n",
       "       2.52378533, 2.53139394, 2.53899467, 2.54658751, 2.55417242,\n",
       "       2.56174939, 2.56931839, 2.57687939, 2.58443239, 2.59197734,\n",
       "       2.59951423, 2.60704304, 2.61456373, 2.62207629, 2.6295807 ,\n",
       "       2.63707693, 2.64456495, 2.65204475, 2.6595163 , 2.66697958,\n",
       "       2.67443456, 2.68188122, 2.68931954, 2.6967495 , 2.70417107,\n",
       "       2.71158422, 2.71898894, 2.72638521, 2.73377299, 2.74115227,\n",
       "       2.74852302, 2.75588523, 2.76323886, 2.7705839 , 2.77792031,\n",
       "       2.78524809, 2.79256721, 2.79987763, 2.80717935, 2.81447234,\n",
       "       2.82175657, 2.82903203, 2.83629868, 2.84355652, 2.85080551,\n",
       "       2.85804563, 2.86527686, 2.87249918, 2.87971256, 2.88691698,\n",
       "       2.89411243, 2.90129887, 2.90847629, 2.91564467, 2.92280397,\n",
       "       2.92995418, 2.93709528, 2.94422724, 2.95135004, 2.95846367,\n",
       "       2.96556809, 2.97266329, 2.97974924, 2.98682592, 2.99389331,\n",
       "       3.00095139, 3.00800013, 3.01503952, 3.02206953, 3.02909014,\n",
       "       3.03610132, 3.04310307, 3.05009535, 3.05707814, 3.06405142,\n",
       "       3.07101517, 3.07796936, 3.08491399, 3.09184902, 3.09877443,\n",
       "       3.1056902 , 3.11259631, 3.11949274, 3.12637946, 3.13325647,\n",
       "       3.14012372, 3.14698121, 3.15382891, 3.1606668 , 3.16749486,\n",
       "       3.17431306, 3.18112139, 3.18791983, 3.19470835, 3.20148693,\n",
       "       3.20825556, 3.2150142 , 3.22176285, 3.22850147, 3.23523006,\n",
       "       3.24194857, 3.24865701, 3.25535534, 3.26204354, 3.2687216 ,\n",
       "       3.27538949, 3.28204719, 3.28869468, 3.29533194, 3.30195895,\n",
       "       3.30857569, 3.31518215, 3.32177828, 3.32836409, 3.33493954,\n",
       "       3.34150462, 3.34805931, 3.35460358, 3.36113741, 3.3676608 ,\n",
       "       3.3741737 , 3.38067611, 3.38716801, 3.39364937, 3.40012017,\n",
       "       3.4065804 , 3.41303003, 3.41946904, 3.42589742, 3.43231514,\n",
       "       3.43872219, 3.44511854, 3.45150417, 3.45787907, 3.46424321,\n",
       "       3.47059658, 3.47693915, 3.4832709 , 3.48959182, 3.49590189,\n",
       "       3.50220108, 3.50848938, 3.51476677, 3.52103322, 3.52728872,\n",
       "       3.53353325, 3.53976678, 3.54598931, 3.55220081, 3.55840126,\n",
       "       3.56459063, 3.57076893, 3.57693611, 3.58309217, 3.58923708,\n",
       "       3.59537083, 3.60149339, 3.60760476, 3.6137049 , 3.6197938 ,\n",
       "       3.62587144, 3.6319378 , 3.63799287, 3.64403662, 3.65006903,\n",
       "       3.65609009, 3.66209978, 3.66809808, 3.67408497, 3.68006042,\n",
       "       3.68602444, 3.69197698, 3.69791805, 3.70384761, 3.70976565,\n",
       "       3.71567215, 3.72156709, 3.72745046, 3.73332223, 3.73918239,\n",
       "       3.74503092, 3.7508678 , 3.75669301, 3.76250654, 3.76830836,\n",
       "       3.77409846, 3.77987683, 3.78564343, 3.79139826, 3.7971413 ,\n",
       "       3.80287252, 3.80859192, 3.81429947, 3.81999516, 3.82567896,\n",
       "       3.83135087, 3.83701085, 3.8426589 , 3.848295  , 3.85391913,\n",
       "       3.85953127, 3.86513141, 3.87071952, 3.87629559, 3.88185961,\n",
       "       3.88741155, 3.8929514 , 3.89847914, 3.90399475, 3.90949822,\n",
       "       3.91498953, 3.92046866, 3.9259356 , 3.93139032, 3.93683282,\n",
       "       3.94226307, 3.94768106, 3.95308677, 3.95848018, 3.96386128,\n",
       "       3.96923005, 3.97458648, 3.97993054, 3.98526222, 3.9905815 ,\n",
       "       3.99588838, 4.00118282, 4.00646482, 4.01173435, 4.01699141,\n",
       "       4.02223597, 4.02746802, 4.03268754, 4.03789452, 4.04308894,\n",
       "       4.04827078, 4.05344003, 4.05859667, 4.06374069, 4.06887207,\n",
       "       4.07399079, 4.07909684, 4.0841902 , 4.08927085, 4.09433879,\n",
       "       4.09939399, 4.10443644, 4.10946612, 4.11448303, 4.11948713,\n",
       "       4.12447842, 4.12945688, 4.13442249, 4.13937524, 4.14431512,\n",
       "       4.14924211, 4.15415619, 4.15905735, 4.16394557, 4.16882084,\n",
       "       4.17368315, 4.17853247, 4.18336879, 4.1881921 , 4.19300239,\n",
       "       4.19779963, 4.20258381, 4.20735492])"
      ]
     },
     "execution_count": 412,
     "metadata": {},
     "output_type": "execute_result"
    }
   ],
   "source": [
    "#H is now a function of x, which means c = c(x) and alpha = alpha(x) for both forward and reverse cases\n",
    "#The rest of the parameters are still unchanged from Case 1 and can be recalled as is, though will be restated here\n",
    "g = 9.81 #m/(s^2) - average gravitational acceleration\n",
    "H = np.zeros(x_Total)\n",
    "H = 5*np.sin(x_Array)\n",
    "u_Line_Stable = 10 #m/s - somewhat of an average zonal wind speed value for majority of earth\n",
    "u_Line_Reverse = -10 #m/s - somewhat of an average zonal wind speed value for majority of earth\n",
    "c3 = np.zeros(x_Total)\n",
    "c4 = np.zeros(x_Total)\n",
    "for i in np.arange(x_Total):\n",
    "    c3[i] = u_Line_Stable + ma.sqrt(g*H[i])\n",
    "    c4[i] = u_Line_Reverse - ma.sqrt(g*H[i])\n",
    "H"
   ]
  },
  {
   "cell_type": "code",
   "execution_count": null,
   "id": "a96880b8",
   "metadata": {},
   "outputs": [],
   "source": []
  }
 ],
 "metadata": {
  "kernelspec": {
   "display_name": "Python 3 (ipykernel)",
   "language": "python",
   "name": "python3"
  },
  "language_info": {
   "codemirror_mode": {
    "name": "ipython",
    "version": 3
   },
   "file_extension": ".py",
   "mimetype": "text/x-python",
   "name": "python",
   "nbconvert_exporter": "python",
   "pygments_lexer": "ipython3",
   "version": "3.9.7"
  }
 },
 "nbformat": 4,
 "nbformat_minor": 5
}
