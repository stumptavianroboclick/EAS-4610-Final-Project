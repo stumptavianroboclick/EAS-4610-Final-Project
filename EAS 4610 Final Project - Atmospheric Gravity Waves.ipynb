{
 "cells": [
  {
   "cell_type": "markdown",
   "id": "75b467ce",
   "metadata": {},
   "source": [
    "# EAS 4610 - Earth Systems Modeling - Final Project\n",
    "## Atmospheric/Shallow Water Gravity Waves\n",
    "### By: Carson Clements, Kate Breeden\n",
    "### Due: Tuesday, December 6th\n",
    "### Requirements/Rubric: https://gatech.instructure.com/courses/261984/assignments/1234642\n",
    "### Original Paper (Internal Gravity Waves in the Atmosphere): https://reader.elsevier.com/reader/sd/pii/S007461420480041X?token=0857787B8B9E9271C8A60B92489BEFF2C13E45CB9E82B096A270BAF36C9140939E1555793F0E0CF14F4AF85AECACF9A9&originRegion=us-east-1&originCreation=20221129172936"
   ]
  },
  {
   "cell_type": "markdown",
   "id": "8b44c53b",
   "metadata": {},
   "source": [
    "List of Requirements\n",
    "## Introduction\n",
    "\n",
    "## Equations\n",
    "\n",
    "## Numerical Methods\n",
    "\n",
    "## Results\n",
    "\n",
    "## Figures"
   ]
  },
  {
   "cell_type": "markdown",
   "id": "a28e874f",
   "metadata": {},
   "source": [
    "## WaveEqnDemo Base\n",
    "### Created by: Dr. Robel\n",
    "### Minor Edits by: Carson Clements, Kate Breeden"
   ]
  },
  {
   "cell_type": "markdown",
   "id": "c31c801f",
   "metadata": {},
   "source": [
    "### Necessary Imports"
   ]
  },
  {
   "cell_type": "code",
   "execution_count": 46,
   "id": "eb085c26",
   "metadata": {},
   "outputs": [],
   "source": [
    "import numpy as np\n",
    "import matplotlib.pyplot as plt\n",
    "from scipy.sparse import spdiags"
   ]
  },
  {
   "cell_type": "markdown",
   "id": "77dbdf3e",
   "metadata": {},
   "source": [
    "### Parameters to Consider"
   ]
  },
  {
   "cell_type": "code",
   "execution_count": 47,
   "id": "6cdf5d60",
   "metadata": {},
   "outputs": [],
   "source": [
    "alpha1 = 1\n",
    "alpha2 = 2\n",
    "L = 30.0\n",
    "xt = 15\n",
    "tf = 100.0"
   ]
  },
  {
   "cell_type": "markdown",
   "id": "bc16a865",
   "metadata": {},
   "source": [
    "### Assembling the Grid"
   ]
  },
  {
   "cell_type": "code",
   "execution_count": 48,
   "id": "64e34b67",
   "metadata": {},
   "outputs": [
    {
     "data": {
      "text/plain": [
       "[<matplotlib.lines.Line2D at 0x1fd1ca092b0>]"
      ]
     },
     "execution_count": 48,
     "metadata": {},
     "output_type": "execute_result"
    },
    {
     "data": {
      "image/png": "[encoded data removed]",
      "text/plain": [
       "<Figure size 432x288 with 1 Axes>"
      ]
     },
     "metadata": {
      "needs_background": "light"
     },
     "output_type": "display_data"
    }
   ],
   "source": [
    "nx = 301\n",
    "nt = 10000\n",
    "\n",
    "x = np.linspace(0,L,nx) # Need L to evenly divide into nx\n",
    "t = np.linspace(0,tf,nt) # Need tf to evenly divide into nt\n",
    "\n",
    "dt = t[1]-t[0]\n",
    "dx = x[1]-x[0]\n",
    "\n",
    "lam = np.zeros(nx)\n",
    "lam[x<=xt] = alpha1*dt/dx\n",
    "lam[x>xt] = alpha2*dt/dx\n",
    "\n",
    "plt.plot(x,lam)"
   ]
  },
  {
   "cell_type": "markdown",
   "id": "4e24b8ea",
   "metadata": {},
   "source": [
    "### Pre-Allocating Variables and Initial Conditions"
   ]
  },
  {
   "cell_type": "code",
   "execution_count": 49,
   "id": "06e1ae3d",
   "metadata": {},
   "outputs": [],
   "source": [
    "u = np.nan*np.ones([nx,nt])\n",
    "u[:,0] = np.exp(-(x**2) / 2)\n",
    "u[:,1] = np.exp(-(x**2) / 2)"
   ]
  },
  {
   "cell_type": "markdown",
   "id": "1a9685ae",
   "metadata": {},
   "source": [
    "### Making the Tridiagonal Matrix"
   ]
  },
  {
   "cell_type": "code",
   "execution_count": 50,
   "id": "2c22fcaa",
   "metadata": {},
   "outputs": [],
   "source": [
    "data = np.array([(lam**2)*np.ones(nx), 2*(1-lam**2)*np.ones(nx), (lam**2)*np.ones(nx)])\n",
    "diags = np.array([-1, 0, 1])\n",
    "M = spdiags(data, diags, nx, nx).toarray()"
   ]
  },
  {
   "cell_type": "markdown",
   "id": "d8f08a89",
   "metadata": {},
   "source": [
    "### Establishing Boundary Conditions"
   ]
  },
  {
   "cell_type": "code",
   "execution_count": 51,
   "id": "c2f2d093",
   "metadata": {},
   "outputs": [],
   "source": [
    "#Reflective BC\n",
    "M[0,0] = 2-lam[0]**2\n",
    "M[-1,-1] = 2-lam[-1]**2"
   ]
  },
  {
   "cell_type": "markdown",
   "id": "b671eb31",
   "metadata": {},
   "source": [
    "### Solving the Equation"
   ]
  },
  {
   "cell_type": "code",
   "execution_count": 52,
   "id": "3311551b",
   "metadata": {},
   "outputs": [],
   "source": [
    "for k in np.arange(nt-2):\n",
    "    u[:,k+2] = np.matmul(M,u[:,k+1]) - u[:,k]"
   ]
  },
  {
   "cell_type": "markdown",
   "id": "0be58a3c",
   "metadata": {},
   "source": [
    "### Plotting the Solution"
   ]
  },
  {
   "cell_type": "code",
   "execution_count": 53,
   "id": "2198af9b",
   "metadata": {},
   "outputs": [
    {
     "data": {
      "image/png": "[encoded data removed]",
      "text/plain": [
       "<Figure size 432x288 with 1 Axes>"
      ]
     },
     "metadata": {
      "needs_background": "light"
     },
     "output_type": "display_data"
    }
   ],
   "source": [
    "for k in range(1, 10, nt):\n",
    "    plt.plot(x,u[:,k], 'k', linewidth=3)\n",
    "    plt.xlabel('x')\n",
    "    plt.ylabel('u')\n",
    "    #set(gca,fontsize=20)"
   ]
  },
  {
   "cell_type": "markdown",
   "id": "be98d0c6",
   "metadata": {},
   "source": [
    "# Creating the Wave Function"
   ]
  },
  {
   "cell_type": "markdown",
   "id": "46c9e3c2",
   "metadata": {},
   "source": [
    "### Parameters for Shallow Water/Atmospheric Gravity Waves"
   ]
  },
  {
   "cell_type": "code",
   "execution_count": null,
   "id": "90c669cf",
   "metadata": {},
   "outputs": [],
   "source": [
    "#alpha = u + or - sqrt(gravity * Height or Mean Depth of Lower Layer)\n",
    "# Have to modify above equation to fit two alpha values'\n",
    "# Assume perturbation values can be neglected because H >> h'\n",
    "# h' = A*e^(ik[x-(u+sqrt(gH))t]) What is A? i & k are time and place step, respectively\n"
   ]
  }
 ],
 "metadata": {
  "kernelspec": {
   "display_name": "Python 3 (ipykernel)",
   "language": "python",
   "name": "python3"
  },
  "language_info": {
   "codemirror_mode": {
    "name": "ipython",
    "version": 3
   },
   "file_extension": ".py",
   "mimetype": "text/x-python",
   "name": "python",
   "nbconvert_exporter": "python",
   "pygments_lexer": "ipython3",
   "version": "3.9.7"
  }
 },
 "nbformat": 4,
 "nbformat_minor": 5
}
